{
 "cells": [
  {
   "cell_type": "code",
   "execution_count": 2,
   "id": "4f9ed10c",
   "metadata": {},
   "outputs": [
    {
     "name": "stderr",
     "output_type": "stream",
     "text": [
      "2024-04-28 11:19:40.379338: I tensorflow/core/platform/cpu_feature_guard.cc:210] This TensorFlow binary is optimized to use available CPU instructions in performance-critical operations.\n",
      "To enable the following instructions: AVX2 FMA, in other operations, rebuild TensorFlow with the appropriate compiler flags.\n",
      "2024-04-28 11:19:47.087253: W tensorflow/compiler/tf2tensorrt/utils/py_utils.cc:38] TF-TRT Warning: Could not find TensorRT\n",
      "/opt/Anaconda/anaconda3/lib/python3.9/site-packages/scipy/__init__.py:146: UserWarning: A NumPy version >=1.16.5 and <1.23.0 is required for this version of SciPy (detected version 1.26.4\n",
      "  warnings.warn(f\"A NumPy version >={np_minversion} and <{np_maxversion}\"\n"
     ]
    }
   ],
   "source": [
    "import numpy as np\n",
    "import pandas as pd\n",
    "import tensorflow as tf\n",
    "from sklearn.model_selection import train_test_split\n",
    "\n"
   ]
  },
  {
   "cell_type": "code",
   "execution_count": 3,
   "id": "12a4b110",
   "metadata": {},
   "outputs": [],
   "source": [
    "import matplotlib.pyplot as plt\n",
    "\n",
    "\n",
    "def plot_graphs(history, metric):\n",
    "    plt.plot(history.history[metric])\n",
    "    plt.plot(history.history['val_'+metric], '')\n",
    "    plt.xlabel(\"Epochs\")\n",
    "    plt.ylabel(metric)\n",
    "    plt.legend([metric, 'val_'+metric])\n"
   ]
  },
  {
   "cell_type": "code",
   "execution_count": 21,
   "id": "862e6eef",
   "metadata": {},
   "outputs": [],
   "source": [
    "data = pd.read_csv(\"train.csv\")\n",
    "\n",
    "import spacy\n",
    "\n",
    "# Cargar el modelo de idioma inglés de spaCy\n",
    "nlp = spacy.load(\"en_core_web_sm\") \n",
    "\n",
    "# Función para preprocesar el texto\n",
    "def preprocess_text(text):\n",
    "    # Tokenización y lematización\n",
    "    doc = nlp(text)\n",
    "    tokens_lemmatized = [token.lemma_ for token in doc] \n",
    "    \n",
    "    # Eliminación de stopwords y caracteres especiales\n",
    "    clean_tokens = [token.lower() for token in tokens_lemmatized\n",
    "                    if not nlp.vocab[token].is_stop \n",
    "                    and nlp.vocab[token].is_oov\n",
    "                    and not nlp.vocab[token].is_punct\n",
    "                    and token.isalpha \n",
    "                   ]\n",
    "    \n",
    "    # Unir los tokens limpios en una cadena de texto nuevamente\n",
    "    clean_text = \" \".join(clean_tokens)\n",
    "    \n",
    "    return clean_text\n",
    "\n",
    "# Cargar los datos\n",
    "data = pd.read_csv(\"train.csv\")\n",
    "\n",
    "# Aplicar el preprocesamiento al texto\n",
    "#data=data[0:50]\n",
    "data['clean_text'] = data['text'].apply(preprocess_text)\n",
    "data.head()"
   ]
  },
  {
   "cell_type": "code",
   "execution_count": 50,
   "id": "37f24baf",
   "metadata": {},
   "outputs": [],
   "source": [
    "train_data, test_data = train_test_split(data, test_size=0.2, random_state=42)\n",
    "\n",
    "train_texts = train_data['clean_text'].values\n",
    "train_labels = train_data['label'].values\n",
    "test_texts = test_data['clean_text'].values\n",
    "test_labels = test_data['label'].values"
   ]
  },
  {
   "cell_type": "code",
   "execution_count": 51,
   "id": "e4c6961a",
   "metadata": {},
   "outputs": [],
   "source": [
    "BUFFER_SIZE = 2000\n",
    "BATCH_SIZE = 4"
   ]
  },
  {
   "cell_type": "code",
   "execution_count": 52,
   "id": "e702e493",
   "metadata": {},
   "outputs": [],
   "source": [
    "train_dataset = tf.data.Dataset.from_tensor_slices((train_texts, train_labels))\n",
    "test_dataset = tf.data.Dataset.from_tensor_slices((test_texts, test_labels))\n",
    "\n",
    "train_dataset = train_dataset.shuffle(BUFFER_SIZE).batch(BATCH_SIZE).prefetch(tf.data.AUTOTUNE)\n",
    "test_dataset = test_dataset.batch(BATCH_SIZE).prefetch(tf.data.AUTOTUNE)\n"
   ]
  },
  {
   "cell_type": "code",
   "execution_count": 53,
   "id": "276a1efd",
   "metadata": {},
   "outputs": [
    {
     "name": "stderr",
     "output_type": "stream",
     "text": [
      "2024-04-28 12:22:03.594797: W tensorflow/core/framework/local_rendezvous.cc:404] Local rendezvous is aborting with status: OUT_OF_RANGE: End of sequence\n"
     ]
    }
   ],
   "source": [
    "VOCAB_SIZE = 100000\n",
    "encoder = tf.keras.layers.TextVectorization(\n",
    "    max_tokens=VOCAB_SIZE)\n",
    "encoder.adapt(train_dataset.map(lambda text, label: text))\n"
   ]
  },
  {
   "cell_type": "code",
   "execution_count": 61,
   "id": "f0987101",
   "metadata": {},
   "outputs": [],
   "source": [
    "model = tf.keras.Sequential([\n",
    "    encoder,\n",
    "    tf.keras.layers.Embedding(\n",
    "        input_dim=len(encoder.get_vocabulary()),\n",
    "        output_dim=64,\n",
    "        # Use masking to handle the variable sequence lengths\n",
    "        mask_zero=True),\n",
    "    tf.keras.layers.Bidirectional(tf.keras.layers.LSTM(64,  return_sequences=True)),\n",
    "    tf.keras.layers.Bidirectional(tf.keras.layers.LSTM(32)),\n",
    "    tf.keras.layers.Dense(64, activation='relu'),\n",
    "    tf.keras.layers.Dropout(0.5),\n",
    "    tf.keras.layers.Dense(1)\n",
    "])\n"
   ]
  },
  {
   "cell_type": "code",
   "execution_count": 62,
   "id": "da5e5808",
   "metadata": {},
   "outputs": [
    {
     "name": "stdout",
     "output_type": "stream",
     "text": [
      "[False, True, True, True, True, True, True]\n"
     ]
    }
   ],
   "source": [
    "print([layer.supports_masking for layer in model.layers])\n"
   ]
  },
  {
   "cell_type": "code",
   "execution_count": 63,
   "id": "f0f37bfc",
   "metadata": {},
   "outputs": [],
   "source": [
    "model.compile(loss=tf.keras.losses.BinaryCrossentropy(from_logits=True),\n",
    "              optimizer=tf.keras.optimizers.Adam(5e-6),\n",
    "              metrics=['accuracy'])\n"
   ]
  },
  {
   "cell_type": "code",
   "execution_count": 137,
   "id": "07b250b0",
   "metadata": {
    "scrolled": true
   },
   "outputs": [
    {
     "name": "stdout",
     "output_type": "stream",
     "text": [
      "\u001b[1m1630/1630\u001b[0m \u001b[32m━━━━━━━━━━━━━━━━━━━━\u001b[0m\u001b[37m\u001b[0m \u001b[1m32s\u001b[0m 20ms/step - accuracy: 0.9682 - loss: 0.0826 - val_accuracy: 0.7638 - val_loss: 2.4732\n"
     ]
    }
   ],
   "source": [
    "history = model.fit(train_dataset, epochs=1, #90\n",
    "                    validation_data=test_dataset,\n",
    "                    validation_steps=200)\n"
   ]
  },
  {
   "cell_type": "code",
   "execution_count": 138,
   "id": "f42d8bda",
   "metadata": {},
   "outputs": [
    {
     "name": "stdout",
     "output_type": "stream",
     "text": [
      "\u001b[1m408/408\u001b[0m \u001b[32m━━━━━━━━━━━━━━━━━━━━\u001b[0m\u001b[37m\u001b[0m \u001b[1m1s\u001b[0m 3ms/step - accuracy: 0.7608 - loss: 2.5147\n",
      "Test Loss: 2.7870757579803467\n",
      "Test Accuracy: 0.7319018244743347\n"
     ]
    }
   ],
   "source": [
    "test_loss, test_acc = model.evaluate(test_dataset)\n",
    "\n",
    "print('Test Loss:', test_loss)\n",
    "print('Test Accuracy:', test_acc)"
   ]
  },
  {
   "cell_type": "code",
   "execution_count": 128,
   "id": "19795e49",
   "metadata": {
    "scrolled": false
   },
   "outputs": [
    {
     "data": {
      "text/plain": [
       "(0.0, 2.769912466406822)"
      ]
     },
     "execution_count": 128,
     "metadata": {},
     "output_type": "execute_result"
    },
    {
     "data": {
      "image/png": "[encoded data removed]",
      "text/plain": [
       "<Figure size 576x288 with 2 Axes>"
      ]
     },
     "metadata": {
      "needs_background": "light"
     },
     "output_type": "display_data"
    }
   ],
   "source": [
    "plt.figure(figsize=(8, 4))\n",
    "plt.subplot(1, 2, 1)\n",
    "plot_graphs(history, 'accuracy')\n",
    "plt.ylim(None, 1)\n",
    "plt.subplot(1, 2, 2)\n",
    "plot_graphs(history, 'loss')\n",
    "plt.ylim(0, None)"
   ]
  },
  {
   "cell_type": "code",
   "execution_count": 129,
   "id": "a4ac0623",
   "metadata": {},
   "outputs": [
    {
     "data": {
      "text/html": [
       "<div>\n",
       "<style scoped>\n",
       "    .dataframe tbody tr th:only-of-type {\n",
       "        vertical-align: middle;\n",
       "    }\n",
       "\n",
       "    .dataframe tbody tr th {\n",
       "        vertical-align: top;\n",
       "    }\n",
       "\n",
       "    .dataframe thead th {\n",
       "        text-align: right;\n",
       "    }\n",
       "</style>\n",
       "<table border=\"1\" class=\"dataframe\">\n",
       "  <thead>\n",
       "    <tr style=\"text-align: right;\">\n",
       "      <th></th>\n",
       "      <th>text</th>\n",
       "      <th>id</th>\n",
       "    </tr>\n",
       "  </thead>\n",
       "  <tbody>\n",
       "    <tr>\n",
       "      <th>0</th>\n",
       "      <td>Well media selected them exactly because they'...</td>\n",
       "      <td>ce40fcb3a33</td>\n",
       "    </tr>\n",
       "    <tr>\n",
       "      <th>1</th>\n",
       "      <td>We must stand together to return this mass of ...</td>\n",
       "      <td>02ca950343c</td>\n",
       "    </tr>\n",
       "    <tr>\n",
       "      <th>2</th>\n",
       "      <td>http://apologeticspress.org/APContent.aspx?cat...</td>\n",
       "      <td>a59e88b4f9c</td>\n",
       "    </tr>\n",
       "    <tr>\n",
       "      <th>3</th>\n",
       "      <td>The UK has universal healthcare you dickwad, t...</td>\n",
       "      <td>ad62d80af38</td>\n",
       "    </tr>\n",
       "    <tr>\n",
       "      <th>4</th>\n",
       "      <td>Is that comment good for clergyman Paul Kosyl?</td>\n",
       "      <td>a6b36372f05</td>\n",
       "    </tr>\n",
       "    <tr>\n",
       "      <th>...</th>\n",
       "      <td>...</td>\n",
       "      <td>...</td>\n",
       "    </tr>\n",
       "    <tr>\n",
       "      <th>3488</th>\n",
       "      <td>This political party were neo-nazis in the 90s...</td>\n",
       "      <td>c42316663f5</td>\n",
       "    </tr>\n",
       "    <tr>\n",
       "      <th>3489</th>\n",
       "      <td>You're fucking kidding me. I'm stupefied she i...</td>\n",
       "      <td>3e1b52d2030</td>\n",
       "    </tr>\n",
       "    <tr>\n",
       "      <th>3490</th>\n",
       "      <td>Instead of caricaturing the whole Muslim and I...</td>\n",
       "      <td>fe66fe0f5cc</td>\n",
       "    </tr>\n",
       "    <tr>\n",
       "      <th>3491</th>\n",
       "      <td>sort out Is , and then they can go back!!!</td>\n",
       "      <td>3a5ca8a8fd5</td>\n",
       "    </tr>\n",
       "    <tr>\n",
       "      <th>3492</th>\n",
       "      <td>A muslim man rapes a woman and its cause for c...</td>\n",
       "      <td>1416bed27fc</td>\n",
       "    </tr>\n",
       "  </tbody>\n",
       "</table>\n",
       "<p>3493 rows × 2 columns</p>\n",
       "</div>"
      ],
      "text/plain": [
       "                                                   text           id\n",
       "0     Well media selected them exactly because they'...  ce40fcb3a33\n",
       "1     We must stand together to return this mass of ...  02ca950343c\n",
       "2     http://apologeticspress.org/APContent.aspx?cat...  a59e88b4f9c\n",
       "3     The UK has universal healthcare you dickwad, t...  ad62d80af38\n",
       "4        Is that comment good for clergyman Paul Kosyl?  a6b36372f05\n",
       "...                                                 ...          ...\n",
       "3488  This political party were neo-nazis in the 90s...  c42316663f5\n",
       "3489  You're fucking kidding me. I'm stupefied she i...  3e1b52d2030\n",
       "3490  Instead of caricaturing the whole Muslim and I...  fe66fe0f5cc\n",
       "3491         sort out Is , and then they can go back!!!  3a5ca8a8fd5\n",
       "3492  A muslim man rapes a woman and its cause for c...  1416bed27fc\n",
       "\n",
       "[3493 rows x 2 columns]"
      ]
     },
     "execution_count": 129,
     "metadata": {},
     "output_type": "execute_result"
    }
   ],
   "source": [
    "# Cargar el conjunto de datos test\n",
    "test_data = pd.read_csv(\"test_nolabel.csv\")\n",
    "\n",
    "test_data"
   ]
  },
  {
   "cell_type": "code",
   "execution_count": 130,
   "id": "e151eceb",
   "metadata": {},
   "outputs": [
    {
     "data": {
      "text/html": [
       "<div>\n",
       "<style scoped>\n",
       "    .dataframe tbody tr th:only-of-type {\n",
       "        vertical-align: middle;\n",
       "    }\n",
       "\n",
       "    .dataframe tbody tr th {\n",
       "        vertical-align: top;\n",
       "    }\n",
       "\n",
       "    .dataframe thead th {\n",
       "        text-align: right;\n",
       "    }\n",
       "</style>\n",
       "<table border=\"1\" class=\"dataframe\">\n",
       "  <thead>\n",
       "    <tr style=\"text-align: right;\">\n",
       "      <th></th>\n",
       "      <th>text</th>\n",
       "      <th>id</th>\n",
       "      <th>clean_text</th>\n",
       "    </tr>\n",
       "  </thead>\n",
       "  <tbody>\n",
       "    <tr>\n",
       "      <th>0</th>\n",
       "      <td>Well media selected them exactly because they'...</td>\n",
       "      <td>ce40fcb3a33</td>\n",
       "      <td>medium select exactly stupid ignorant level sa...</td>\n",
       "    </tr>\n",
       "    <tr>\n",
       "      <th>1</th>\n",
       "      <td>We must stand together to return this mass of ...</td>\n",
       "      <td>02ca950343c</td>\n",
       "      <td>stand return mass people come need stand gover...</td>\n",
       "    </tr>\n",
       "    <tr>\n",
       "      <th>2</th>\n",
       "      <td>http://apologeticspress.org/APContent.aspx?cat...</td>\n",
       "      <td>a59e88b4f9c</td>\n",
       "      <td>http://apologeticspress.org/apcontent.aspx?cat...</td>\n",
       "    </tr>\n",
       "    <tr>\n",
       "      <th>3</th>\n",
       "      <td>The UK has universal healthcare you dickwad, t...</td>\n",
       "      <td>ad62d80af38</td>\n",
       "      <td>uk universal healthcare dickwad medical cost c...</td>\n",
       "    </tr>\n",
       "    <tr>\n",
       "      <th>4</th>\n",
       "      <td>Is that comment good for clergyman Paul Kosyl?</td>\n",
       "      <td>a6b36372f05</td>\n",
       "      <td>comment good clergyman paul kosyl</td>\n",
       "    </tr>\n",
       "  </tbody>\n",
       "</table>\n",
       "</div>"
      ],
      "text/plain": [
       "                                                text           id  \\\n",
       "0  Well media selected them exactly because they'...  ce40fcb3a33   \n",
       "1  We must stand together to return this mass of ...  02ca950343c   \n",
       "2  http://apologeticspress.org/APContent.aspx?cat...  a59e88b4f9c   \n",
       "3  The UK has universal healthcare you dickwad, t...  ad62d80af38   \n",
       "4     Is that comment good for clergyman Paul Kosyl?  a6b36372f05   \n",
       "\n",
       "                                          clean_text  \n",
       "0  medium select exactly stupid ignorant level sa...  \n",
       "1  stand return mass people come need stand gover...  \n",
       "2  http://apologeticspress.org/apcontent.aspx?cat...  \n",
       "3  uk universal healthcare dickwad medical cost c...  \n",
       "4                  comment good clergyman paul kosyl  "
      ]
     },
     "execution_count": 130,
     "metadata": {},
     "output_type": "execute_result"
    }
   ],
   "source": [
    "# Aplicar el preprocesamiento al texto\n",
    "test_data['clean_text'] = test_data['text'].apply(preprocess_text)\n",
    "test_data[0:5]"
   ]
  },
  {
   "cell_type": "code",
   "execution_count": 131,
   "id": "53eaa9d3",
   "metadata": {},
   "outputs": [
    {
     "name": "stdout",
     "output_type": "stream",
     "text": [
      "\u001b[1m110/110\u001b[0m \u001b[32m━━━━━━━━━━━━━━━━━━━━\u001b[0m\u001b[37m\u001b[0m \u001b[1m1s\u001b[0m 11ms/step\n"
     ]
    }
   ],
   "source": [
    "#Predicción\n",
    "pred_new = model.predict(test_data[\"clean_text\"])\n",
    "\n",
    "# Aplicar umbral para convertir las probabilidades en etiquetas binarias\n",
    "binary_predictions = (pred_new > 0.5).astype(int)\n",
    "\n",
    "# Añadir las predicciones binarias al DataFrame\n",
    "test_data['predicted_label'] = binary_predictions"
   ]
  },
  {
   "cell_type": "code",
   "execution_count": 132,
   "id": "57bf1000",
   "metadata": {},
   "outputs": [
    {
     "data": {
      "text/html": [
       "<div>\n",
       "<style scoped>\n",
       "    .dataframe tbody tr th:only-of-type {\n",
       "        vertical-align: middle;\n",
       "    }\n",
       "\n",
       "    .dataframe tbody tr th {\n",
       "        vertical-align: top;\n",
       "    }\n",
       "\n",
       "    .dataframe thead th {\n",
       "        text-align: right;\n",
       "    }\n",
       "</style>\n",
       "<table border=\"1\" class=\"dataframe\">\n",
       "  <thead>\n",
       "    <tr style=\"text-align: right;\">\n",
       "      <th></th>\n",
       "      <th>id</th>\n",
       "      <th>label</th>\n",
       "    </tr>\n",
       "  </thead>\n",
       "  <tbody>\n",
       "    <tr>\n",
       "      <th>0</th>\n",
       "      <td>ce40fcb3a33</td>\n",
       "      <td>1</td>\n",
       "    </tr>\n",
       "    <tr>\n",
       "      <th>1</th>\n",
       "      <td>02ca950343c</td>\n",
       "      <td>1</td>\n",
       "    </tr>\n",
       "    <tr>\n",
       "      <th>2</th>\n",
       "      <td>a59e88b4f9c</td>\n",
       "      <td>0</td>\n",
       "    </tr>\n",
       "    <tr>\n",
       "      <th>3</th>\n",
       "      <td>ad62d80af38</td>\n",
       "      <td>0</td>\n",
       "    </tr>\n",
       "    <tr>\n",
       "      <th>4</th>\n",
       "      <td>a6b36372f05</td>\n",
       "      <td>0</td>\n",
       "    </tr>\n",
       "    <tr>\n",
       "      <th>...</th>\n",
       "      <td>...</td>\n",
       "      <td>...</td>\n",
       "    </tr>\n",
       "    <tr>\n",
       "      <th>3488</th>\n",
       "      <td>c42316663f5</td>\n",
       "      <td>1</td>\n",
       "    </tr>\n",
       "    <tr>\n",
       "      <th>3489</th>\n",
       "      <td>3e1b52d2030</td>\n",
       "      <td>1</td>\n",
       "    </tr>\n",
       "    <tr>\n",
       "      <th>3490</th>\n",
       "      <td>fe66fe0f5cc</td>\n",
       "      <td>0</td>\n",
       "    </tr>\n",
       "    <tr>\n",
       "      <th>3491</th>\n",
       "      <td>3a5ca8a8fd5</td>\n",
       "      <td>0</td>\n",
       "    </tr>\n",
       "    <tr>\n",
       "      <th>3492</th>\n",
       "      <td>1416bed27fc</td>\n",
       "      <td>1</td>\n",
       "    </tr>\n",
       "  </tbody>\n",
       "</table>\n",
       "<p>3493 rows × 2 columns</p>\n",
       "</div>"
      ],
      "text/plain": [
       "               id  label\n",
       "0     ce40fcb3a33      1\n",
       "1     02ca950343c      1\n",
       "2     a59e88b4f9c      0\n",
       "3     ad62d80af38      0\n",
       "4     a6b36372f05      0\n",
       "...           ...    ...\n",
       "3488  c42316663f5      1\n",
       "3489  3e1b52d2030      1\n",
       "3490  fe66fe0f5cc      0\n",
       "3491  3a5ca8a8fd5      0\n",
       "3492  1416bed27fc      1\n",
       "\n",
       "[3493 rows x 2 columns]"
      ]
     },
     "execution_count": 132,
     "metadata": {},
     "output_type": "execute_result"
    }
   ],
   "source": [
    "predictions_df = pd.DataFrame({'id': test_data[\"id\"], 'label': test_data['predicted_label']})\n",
    "\n",
    "predictions_df.to_csv(\"RNN_predictions.csv\", index=False, header=True)\n",
    "predictions_df"
   ]
  }
 ],
 "metadata": {
  "kernelspec": {
   "display_name": "Python 3 (ipykernel)",
   "language": "python",
   "name": "python3"
  },
  "language_info": {
   "codemirror_mode": {
    "name": "ipython",
    "version": 3
   },
   "file_extension": ".py",
   "mimetype": "text/x-python",
   "name": "python",
   "nbconvert_exporter": "python",
   "pygments_lexer": "ipython3",
   "version": "3.9.7"
  }
 },
 "nbformat": 4,
 "nbformat_minor": 5
}
